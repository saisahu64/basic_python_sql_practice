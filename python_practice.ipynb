{
 "cells": [
  {
   "cell_type": "code",
   "execution_count": 6,
   "id": "bbcabbbe-e069-4c51-9aa0-b869d6c7164b",
   "metadata": {},
   "outputs": [
    {
     "name": "stdout",
     "output_type": "stream",
     "text": [
      "Python 3.12.3\n"
     ]
    }
   ],
   "source": [
    "! python --version"
   ]
  },
  {
   "cell_type": "code",
   "execution_count": 7,
   "id": "8c09e78d-9ae6-4942-8b1f-b471ce766acc",
   "metadata": {},
   "outputs": [
    {
     "name": "stdout",
     "output_type": "stream",
     "text": [
      "Hello World!\n"
     ]
    }
   ],
   "source": [
    "print(\"Hello World!\")"
   ]
  },
  {
   "cell_type": "code",
   "execution_count": 8,
   "id": "e7072f3d-4263-4ac2-9773-056b7fd6a940",
   "metadata": {},
   "outputs": [
    {
     "name": "stdout",
     "output_type": "stream",
     "text": [
      "3.12.3 (main, Apr 10 2024, 05:33:47) [GCC 13.2.0]\n"
     ]
    }
   ],
   "source": [
    "import sys\n",
    "print(sys.version)"
   ]
  },
  {
   "cell_type": "code",
   "execution_count": 24,
   "id": "41013d13-7143-4711-bf9c-bac84cd9fbab",
   "metadata": {},
   "outputs": [
    {
     "name": "stdout",
     "output_type": "stream",
     "text": [
      "True\n",
      "Another Line\n",
      "1\n",
      "2\n"
     ]
    }
   ],
   "source": [
    "num = 1\n",
    "\n",
    "if num == 1:\n",
    "    print(True)\n",
    "    print(\"Another Line\")\n",
    "else:\n",
    "  print(False)\n",
    "  print(\"Another Line\")\n",
    "\n",
    "for ele in [1, 2]:\n",
    " print(ele)"
   ]
  },
  {
   "cell_type": "code",
   "execution_count": 25,
   "id": "da936a66-8996-46ec-b6a1-21a79ab6d96f",
   "metadata": {},
   "outputs": [
    {
     "data": {
      "text/plain": [
       "'This is something else.\\nI need to check it once again\\n'"
      ]
     },
     "execution_count": 25,
     "metadata": {},
     "output_type": "execute_result"
    }
   ],
   "source": [
    "\"\"\"This is something else.\n",
    "I need to check it once again\n",
    "\"\"\""
   ]
  },
  {
   "cell_type": "code",
   "execution_count": 26,
   "id": "556ba43b-72f1-4e74-9751-d903b7925893",
   "metadata": {},
   "outputs": [
    {
     "name": "stdout",
     "output_type": "stream",
     "text": [
      "16.89 -8 sai\n"
     ]
    }
   ],
   "source": [
    "x, y, first_name = 16.89, -8, \"sai\"\n",
    "print(x, y, first_name)"
   ]
  },
  {
   "cell_type": "code",
   "execution_count": 27,
   "id": "deaf5649-2a6d-4237-a298-7f1e35efe9b8",
   "metadata": {},
   "outputs": [
    {
     "name": "stdout",
     "output_type": "stream",
     "text": [
      "sai sai sai\n"
     ]
    }
   ],
   "source": [
    "x = y = first_name = 'sai'\n",
    "print(x, y, first_name)"
   ]
  },
  {
   "cell_type": "code",
   "execution_count": 4,
   "id": "deff4263-ce15-4ecd-9a9f-708e322f84f0",
   "metadata": {},
   "outputs": [
    {
     "name": "stdout",
     "output_type": "stream",
     "text": [
      "name age height\n"
     ]
    }
   ],
   "source": [
    "x = [1, 2, \"apple\"]\n",
    "x = (1, 2, \"apple\")\n",
    "x = {1, 2, \"apple\"}\n",
    "x = {\"name\": \"sai\", \"age\": 23, \"height\": 5.8}\n",
    "y, z, a = x\n",
    "print(y, z, a)"
   ]
  },
  {
   "cell_type": "code",
   "execution_count": 2,
   "id": "813819aa-4ca1-47a7-b3c2-43f6576277ac",
   "metadata": {},
   "outputs": [
    {
     "name": "stdout",
     "output_type": "stream",
     "text": [
      "0 1.2 apple\n"
     ]
    }
   ],
   "source": [
    "[x, y, z] = [0, 1.2, 'apple']\n",
    "print(x, y, z)\n",
    "\n",
    "x = [1, 2.2, \"apple\"]\n",
    "[x, y, z] = x"
   ]
  },
  {
   "cell_type": "code",
   "execution_count": 10,
   "id": "bd49f6b8-8d81-4931-a7b6-c5746811b668",
   "metadata": {},
   "outputs": [
    {
     "name": "stdout",
     "output_type": "stream",
     "text": [
      "test_2 best_2\n",
      "test_2 best_2\n",
      "mest_2\n",
      "mest_2\n"
     ]
    }
   ],
   "source": [
    "x = 'test'\n",
    "y = 'best'\n",
    "z = 'mest'\n",
    "\n",
    "def func():\n",
    "    global x, y\n",
    "    x = 'test_2'\n",
    "    y = 'best_2'\n",
    "    print(x, y)\n",
    "\n",
    "func()\n",
    "\n",
    "print(x, y)\n",
    "\n",
    "if True:\n",
    "    z = 'mest_2'\n",
    "    print(z)\n",
    "\n",
    "print(z)"
   ]
  },
  {
   "cell_type": "code",
   "execution_count": 12,
   "id": "217e3026-4917-4766-abfc-63eb637911e1",
   "metadata": {},
   "outputs": [
    {
     "name": "stdout",
     "output_type": "stream",
     "text": [
      "<class 'int'>\n"
     ]
    }
   ],
   "source": [
    "x = 5\n",
    "print(type(x))"
   ]
  },
  {
   "cell_type": "code",
   "execution_count": 13,
   "id": "f495850a-0675-4c07-8a6d-605e709d414c",
   "metadata": {},
   "outputs": [
    {
     "name": "stdout",
     "output_type": "stream",
     "text": [
      "<class 'complex'>\n"
     ]
    }
   ],
   "source": [
    "x = 2 + 3j\n",
    "print(type(x))"
   ]
  },
  {
   "cell_type": "code",
   "execution_count": 14,
   "id": "f6275054-103d-454a-84b8-f46daea650b6",
   "metadata": {},
   "outputs": [
    {
     "name": "stdout",
     "output_type": "stream",
     "text": [
      "<class 'range'>\n"
     ]
    }
   ],
   "source": [
    "x = range(-5)\n",
    "print(type(x))"
   ]
  },
  {
   "cell_type": "code",
   "execution_count": 23,
   "id": "6e6833e7-f7e2-4b90-8263-a972fb5cf9de",
   "metadata": {},
   "outputs": [
    {
     "name": "stdout",
     "output_type": "stream",
     "text": [
      "<class 'frozenset'>\n"
     ]
    }
   ],
   "source": [
    "x = frozenset({\"apple\", 5, 5.9})\n",
    "# x.add(\"cherry\")\n",
    "print(type(x))"
   ]
  },
  {
   "cell_type": "code",
   "execution_count": 27,
   "id": "3663abbd-22db-45f3-adba-262bb87bad8b",
   "metadata": {},
   "outputs": [
    {
     "name": "stdout",
     "output_type": "stream",
     "text": [
      "['apple', 2, 3.5]\n"
     ]
    }
   ],
   "source": [
    "x = list((\"apple\", 2, 3.5))\n",
    "print(x)"
   ]
  },
  {
   "cell_type": "code",
   "execution_count": 38,
   "id": "a9fb0ec5-d174-40ca-b2b9-8a894070f16a",
   "metadata": {},
   "outputs": [
    {
     "name": "stdout",
     "output_type": "stream",
     "text": [
      "<memory at 0x72e469b1bc40>\n",
      "b'a'\n",
      "bytearray(b'\\x00\\x00\\x00\\x00\\x00')\n"
     ]
    }
   ],
   "source": [
    "x = memoryview(bytes(5))\n",
    "print(x)\n",
    "y = bytes(\"a\", \"UTF\")\n",
    "print(y)\n",
    "z = bytearray(5)\n",
    "print(z)"
   ]
  },
  {
   "cell_type": "code",
   "execution_count": 48,
   "id": "481bb74d-827b-4f33-a85b-c56616a3016d",
   "metadata": {},
   "outputs": [
    {
     "name": "stdout",
     "output_type": "stream",
     "text": [
      "53000000000.0\n"
     ]
    }
   ],
   "source": [
    "x = 5.3e10\n",
    "print(x)"
   ]
  },
  {
   "cell_type": "code",
   "execution_count": 54,
   "id": "9baa485f-d4a8-4e83-b524-e34b78e65ec3",
   "metadata": {},
   "outputs": [
    {
     "name": "stdout",
     "output_type": "stream",
     "text": [
      "(5+0j) (5+0j)\n",
      "<class 'complex'> <class 'str'>\n"
     ]
    }
   ],
   "source": [
    "x = complex(5)\n",
    "y = str(x)\n",
    "print(x, y)\n",
    "print(type(x), type(y))"
   ]
  },
  {
   "cell_type": "code",
   "execution_count": 100,
   "id": "91940fba-e40f-4fde-9418-85ba467477cc",
   "metadata": {},
   "outputs": [
    {
     "name": "stdout",
     "output_type": "stream",
     "text": [
      "3\n"
     ]
    }
   ],
   "source": [
    "import random\n",
    "numbers = random.randrange(2, 8)\n",
    "print(numbers)"
   ]
  },
  {
   "cell_type": "code",
   "execution_count": 108,
   "id": "a0987e29-28aa-499d-a128-d7ea85590823",
   "metadata": {},
   "outputs": [
    {
     "name": "stdout",
     "output_type": "stream",
     "text": [
      "This is a cat\n",
      "and we all know that every cat has a great\n",
      "way to interact with rats.\n",
      "This is a cat\n",
      "and we all know that every cat has a great\n",
      "way to interact with rats.\n"
     ]
    }
   ],
   "source": [
    "for i in range(2):\n",
    "    x = \"\"\"This is a cat\n",
    "and we all know that every cat has a great\n",
    "way to interact with rats.\"\"\"\n",
    "    print(x)"
   ]
  },
  {
   "cell_type": "code",
   "execution_count": 117,
   "id": "572cd30c-d55b-4d9d-969c-f8a1314e360b",
   "metadata": {},
   "outputs": [
    {
     "name": "stdout",
     "output_type": "stream",
     "text": [
      "4567\n"
     ]
    }
   ],
   "source": [
    "x = \"0123456789\"\n",
    "slice_x = x[-6 : -2]\n",
    "print(slice_x)"
   ]
  },
  {
   "cell_type": "code",
   "execution_count": 120,
   "id": "ee6fa23e-fda8-47ad-86be-c897443a512a",
   "metadata": {},
   "outputs": [
    {
     "name": "stdout",
     "output_type": "stream",
     "text": [
      "123\n"
     ]
    }
   ],
   "source": [
    "x = \"  123 \"\n",
    "y = x.strip()\n",
    "print(y)"
   ]
  },
  {
   "cell_type": "code",
   "execution_count": 122,
   "id": "5c3951fb-872f-4c5e-b83f-9fb6339ce281",
   "metadata": {},
   "outputs": [
    {
     "name": "stdout",
     "output_type": "stream",
     "text": [
      "ß\n",
      "ss\n"
     ]
    }
   ],
   "source": [
    "x = \"abcABC\"\n",
    "x = \"ß\"\n",
    "print(x.lower())\n",
    "print(x.casefold())"
   ]
  },
  {
   "cell_type": "code",
   "execution_count": 1,
   "id": "44920158-e78c-4f21-82ad-37eda6a678da",
   "metadata": {},
   "outputs": [
    {
     "name": "stdout",
     "output_type": "stream",
     "text": [
      "efc efcd ef\n"
     ]
    }
   ],
   "source": [
    "print(\"abc abcd ab\".replace(\"ab\", \"ef\"))"
   ]
  },
  {
   "cell_type": "code",
   "execution_count": 4,
   "id": "94adaf8d-355b-4b6a-a835-41a9a23ba2cd",
   "metadata": {},
   "outputs": [
    {
     "name": "stdout",
     "output_type": "stream",
     "text": [
      "i am 3.0 years old.\n"
     ]
    }
   ],
   "source": [
    "y = 5\n",
    "def twice(num):\n",
    "    return num * 2\n",
    "\n",
    "x = f\"i am {} years old.\"\n",
    "print(x)"
   ]
  },
  {
   "cell_type": "code",
   "execution_count": 17,
   "id": "cf1c1647-5764-4b4a-b738-fe9d6782df71",
   "metadata": {},
   "outputs": [
    {
     "name": "stdout",
     "output_type": "stream",
     "text": [
      "65.23457\n"
     ]
    }
   ],
   "source": [
    "x = 65\n",
    "y = f\"{65.23456789:.5f}\"\n",
    "print(y)"
   ]
  },
  {
   "cell_type": "code",
   "execution_count": 34,
   "id": "4bdb4d8f-a969-475c-9361-05db576aef5f",
   "metadata": {},
   "outputs": [
    {
     "name": "stdout",
     "output_type": "stream",
     "text": [
      "-1\n"
     ]
    }
   ],
   "source": [
    "x = \"ab abc abcd ab\"\n",
    "# y = x.index(\"10\")\n",
    "# y = x.find(\"02\")\n",
    "print(y)"
   ]
  },
  {
   "cell_type": "markdown",
   "id": "ca78e8f6-7d32-4517-82d6-079aa231e218",
   "metadata": {},
   "source": [
    "An example of non-ascii character.\n",
    "\n",
    "&#163;"
   ]
  },
  {
   "cell_type": "code",
   "execution_count": 43,
   "id": "311ab245-68a6-4c3d-b8b2-41318ffba925",
   "metadata": {},
   "outputs": [
    {
     "name": "stdout",
     "output_type": "stream",
     "text": [
      "['this', 'is', 'a', 'cat']\n"
     ]
    }
   ],
   "source": [
    "x = 'this is a cat'\n",
    "y = x.rsplit(' ', -1)\n",
    "print(y)"
   ]
  },
  {
   "cell_type": "code",
   "execution_count": 50,
   "id": "fe8d468e-1698-47e7-8911-68111cf6c8fd",
   "metadata": {},
   "outputs": [
    {
     "name": "stdout",
     "output_type": "stream",
     "text": [
      "True\n",
      "False\n"
     ]
    }
   ],
   "source": [
    "print(bool([1, 2.5, \"apple\"]))\n",
    "print(bool(0))"
   ]
  },
  {
   "cell_type": "code",
   "execution_count": 78,
   "id": "46bced87-cc1b-4777-97ea-924b9a9c093f",
   "metadata": {},
   "outputs": [
    {
     "name": "stdout",
     "output_type": "stream",
     "text": [
      "0\n"
     ]
    }
   ],
   "source": [
    "x = 5\n",
    "x = x >> 9\n",
    "print(x)"
   ]
  },
  {
   "cell_type": "code",
   "execution_count": 85,
   "id": "fafe2acf-a5e6-4e50-a6e2-900d8cef37f3",
   "metadata": {},
   "outputs": [
    {
     "name": "stdout",
     "output_type": "stream",
     "text": [
      "(1, True)\n"
     ]
    }
   ],
   "source": [
    "x = \"this is a car\"\n",
    "y = \"this is a\" in x\n",
    "x = [1, 2.1, \"apple\"]\n",
    "y = 1, 2.1 in x\n",
    "print(y)"
   ]
  },
  {
   "cell_type": "code",
   "execution_count": 15,
   "id": "eb85cd55-8e5a-44ed-9ce6-472fe212c40e",
   "metadata": {},
   "outputs": [
    {
     "name": "stdout",
     "output_type": "stream",
     "text": [
      "[0, 1, 2, 3, 4, 5, 6, 7, 8, 'a']\n"
     ]
    }
   ],
   "source": [
    "list_ = [0, 1, 2, 3, 4, 5, 6, 7, 8]\n",
    "# print(list_[:])\n",
    "# list_[2] = \"5\"\n",
    "# print(list_)\n",
    "# list_[2:5] = [\"a\", \"b\", \"c\"]\n",
    "# print(list_)\n",
    "# list_[1:3] = [\"a\", \"b\", \"c\", \"d\"]\n",
    "list_.insert(len(list_), \"a\")\n",
    "print(list_)"
   ]
  },
  {
   "cell_type": "code",
   "execution_count": 19,
   "id": "4525c8d6-d740-4259-9ba3-de7b54e54268",
   "metadata": {},
   "outputs": [
    {
     "name": "stdout",
     "output_type": "stream",
     "text": [
      "[1, 2, 3, 4, 5]\n"
     ]
    }
   ],
   "source": [
    "list_ = [1, 2, 3]\n",
    "list_.extend({4, 5})\n",
    "print(list_)"
   ]
  },
  {
   "cell_type": "code",
   "execution_count": 32,
   "id": "9a4ebb44-fc55-44c4-ac56-de3a5b0faccb",
   "metadata": {
    "scrolled": true
   },
   "outputs": [
    {
     "name": "stdout",
     "output_type": "stream",
     "text": [
      "1 a\n",
      "1 b\n",
      "1 c\n",
      "1 d\n",
      "2 a\n",
      "2 b\n",
      "2 c\n",
      "2 d\n",
      "3 a\n",
      "3 b\n",
      "3 c\n",
      "3 d\n",
      "4 a\n",
      "4 b\n",
      "4 c\n",
      "4 d\n"
     ]
    },
    {
     "data": {
      "text/plain": [
       "[None,\n",
       " None,\n",
       " None,\n",
       " None,\n",
       " None,\n",
       " None,\n",
       " None,\n",
       " None,\n",
       " None,\n",
       " None,\n",
       " None,\n",
       " None,\n",
       " None,\n",
       " None,\n",
       " None,\n",
       " None]"
      ]
     },
     "execution_count": 32,
     "metadata": {},
     "output_type": "execute_result"
    }
   ],
   "source": [
    "list_ = [1, 2, 3, 4]\n",
    "list_2 = [\"a\", \"b\", \"c\", \"d\"]\n",
    "[print(x, y) for x in list_ for y in list_2]"
   ]
  },
  {
   "cell_type": "code",
   "execution_count": 52,
   "id": "55c2f2fa-1ece-4422-9724-05121fc6d374",
   "metadata": {},
   "outputs": [],
   "source": [
    "list_1 = [1, 2, 3, 4]\n",
    "list_2 = [\"a\", \"b\", \"c\", \"d\"]\n",
    "list_3 = [\"apple\", \"banana\", \"mango\"]\n",
    "\n",
    "z = [str(x) + y if x == 1 and y == \"a\" else [x**2, y] for x in list_1 if x > 3 for y in list_2 if y == \"b\"]"
   ]
  },
  {
   "cell_type": "markdown",
   "id": "ce047285-0706-48a7-9f1f-be4729d5d4d4",
   "metadata": {},
   "source": [
    "#### The following codes are weired to see that a function is taking another function as an argument"
   ]
  },
  {
   "cell_type": "code",
   "execution_count": 54,
   "id": "bed5bd02-0010-4e13-a07a-8de00c64e3d7",
   "metadata": {},
   "outputs": [
    {
     "name": "stdout",
     "output_type": "stream",
     "text": [
      "[5, 4, 6, 3, 7, 2, 8, 1, 9, 0]\n"
     ]
    }
   ],
   "source": [
    "list_ = [0, 1, 2, 3, 4, 5, 6, 7, 8, 9]\n",
    "\n",
    "def func(n):\n",
    "    return abs(5 -n)\n",
    "\n",
    "list_.sort(key = func)\n",
    "print(list_)"
   ]
  },
  {
   "cell_type": "code",
   "execution_count": 3,
   "id": "e9ae0bcb-9859-4212-9924-8fe88d25a107",
   "metadata": {},
   "outputs": [
    {
     "name": "stdout",
     "output_type": "stream",
     "text": [
      "<method 'lower' of 'str' objects>\n",
      "abc\n"
     ]
    }
   ],
   "source": [
    "print(str.lower)\n",
    "print(\"ABc\".lower())"
   ]
  },
  {
   "cell_type": "code",
   "execution_count": 10,
   "id": "b1bc367e-9545-49db-be53-a113f7d92050",
   "metadata": {},
   "outputs": [
    {
     "name": "stdout",
     "output_type": "stream",
     "text": [
      "[1, 2, 3]\n"
     ]
    }
   ],
   "source": [
    "list_1 = [1, 2, 3]\n",
    "list_2 = list_1.copy()\n",
    "list_1[0] = \"a\"\n",
    "print(list_2)"
   ]
  },
  {
   "cell_type": "code",
   "execution_count": 14,
   "id": "fd7e0bb0-f8ec-4d0a-9d42-0489821a5127",
   "metadata": {},
   "outputs": [
    {
     "name": "stdout",
     "output_type": "stream",
     "text": [
      "[1, 'a', 2]\n"
     ]
    }
   ],
   "source": [
    "list_ = [1, 2]\n",
    "list_.insert(1, \"a\")\n",
    "print(list_)"
   ]
  },
  {
   "cell_type": "code",
   "execution_count": 25,
   "id": "efd8a8b6-8db4-4fdd-a567-055f6533a4a3",
   "metadata": {},
   "outputs": [
    {
     "name": "stdout",
     "output_type": "stream",
     "text": [
      "['a']\n",
      "1\n"
     ]
    }
   ],
   "source": [
    "collection = [\"a\"]\n",
    "# collection = (\"a\",)\n",
    "print(collection)\n",
    "print(len(collection))"
   ]
  },
  {
   "cell_type": "code",
   "execution_count": 2,
   "id": "78a34bf3-7cba-4a0e-a325-2e007b7a16df",
   "metadata": {},
   "outputs": [],
   "source": [
    "list_ = [0, 1, 2, 3]\n",
    "# print(list_[0, 2])"
   ]
  },
  {
   "cell_type": "code",
   "execution_count": 19,
   "id": "290d1c91-dfdf-44c5-9093-446b7bd60a92",
   "metadata": {},
   "outputs": [
    {
     "name": "stdout",
     "output_type": "stream",
     "text": [
      "0 2 [3, 4, 5] 6\n"
     ]
    }
   ],
   "source": [
    "x = (0, 1, 2, 3, 4)\n",
    "# y, z, a = x\n",
    "(y, z, *a) = x\n",
    "y, z, *a = x\n",
    "y, z, *a, b = [0, 2, 3, 4, 5, 6]\n",
    "print(y, z, a, b)"
   ]
  },
  {
   "cell_type": "code",
   "execution_count": 24,
   "id": "d469af40-7230-4ebd-9606-4104d2d529a3",
   "metadata": {},
   "outputs": [
    {
     "name": "stdout",
     "output_type": "stream",
     "text": [
      "0\n",
      "1\n",
      "2\n",
      "3\n"
     ]
    }
   ],
   "source": [
    "x = (0, 1, 2, 3)\n",
    "i = 0\n",
    "while i < len(x):\n",
    "    print(x[i])\n",
    "    i = i + 1"
   ]
  },
  {
   "cell_type": "code",
   "execution_count": 30,
   "id": "a67d36e4-bb1e-4f80-9991-211998e42bad",
   "metadata": {},
   "outputs": [
    {
     "name": "stdout",
     "output_type": "stream",
     "text": [
      "1\n"
     ]
    }
   ],
   "source": [
    "x = (2, 1, 3, 1)\n",
    "# print(x * 3)\n",
    "print(x.index(1))"
   ]
  },
  {
   "cell_type": "code",
   "execution_count": 43,
   "id": "0c8a40e0-9ca9-451d-b18a-5c73115e4603",
   "metadata": {},
   "outputs": [
    {
     "name": "stdout",
     "output_type": "stream",
     "text": [
      "{1, 2.5, (1, 2), 'a'}\n"
     ]
    }
   ],
   "source": [
    "x = {1, 2.5, \"a\", (1, 2)}\n",
    "x.add(1)\n",
    "print(x)"
   ]
  },
  {
   "cell_type": "code",
   "execution_count": 47,
   "id": "12a5b6d0-4d12-4eae-87a2-1b6185ce26df",
   "metadata": {},
   "outputs": [
    {
     "name": "stdout",
     "output_type": "stream",
     "text": [
      "{'name', 1, 2, 3}\n"
     ]
    }
   ],
   "source": [
    "x = {1, 2, 3}\n",
    "x.update({\"name\": \"sai\"})\n",
    "print(x)"
   ]
  },
  {
   "cell_type": "code",
   "execution_count": 51,
   "id": "3f49e736-72db-4369-9411-cdbd2c67db80",
   "metadata": {},
   "outputs": [
    {
     "name": "stdout",
     "output_type": "stream",
     "text": [
      "{1, 2, 3, 'b', 'c', 'a'}\n",
      "{1, 2, 3, 'b', 'c', 'a'}\n"
     ]
    }
   ],
   "source": [
    "x = {1, 2, 3}\n",
    "y = {1, \"a\", \"b\"}\n",
    "z = {2, \"a\", \"c\"}\n",
    "a = x.union(y, z)\n",
    "print(a)\n",
    "z = x | y | z\n",
    "print(z)"
   ]
  },
  {
   "cell_type": "code",
   "execution_count": 57,
   "id": "dc2ed509-3781-46b7-83b7-2616f57d23d7",
   "metadata": {},
   "outputs": [
    {
     "name": "stdout",
     "output_type": "stream",
     "text": [
      "{0}\n"
     ]
    }
   ],
   "source": [
    "x = {0, 0.0}\n",
    "print(x)"
   ]
  },
  {
   "cell_type": "code",
   "execution_count": 61,
   "id": "b78becf5-721e-4f1c-b410-ce06f5a4c5e3",
   "metadata": {},
   "outputs": [
    {
     "name": "stdout",
     "output_type": "stream",
     "text": [
      "False\n"
     ]
    }
   ],
   "source": [
    "print({1, 2, 3} > {1, 2, 3})"
   ]
  },
  {
   "cell_type": "code",
   "execution_count": 67,
   "id": "c43d45a7-c7ca-4e56-8da9-7a2a7ee55d56",
   "metadata": {},
   "outputs": [
    {
     "name": "stdout",
     "output_type": "stream",
     "text": [
      "26\n"
     ]
    }
   ],
   "source": [
    "dict_ = {\n",
    "    \"name\": \"Sai\",\n",
    "    \"age\": 26\n",
    "}\n",
    "print(dict_[\"age\"])"
   ]
  },
  {
   "cell_type": "code",
   "execution_count": 70,
   "id": "ac7a12b9-b585-4c6d-ba53-4ed89dec7d60",
   "metadata": {},
   "outputs": [
    {
     "name": "stdout",
     "output_type": "stream",
     "text": [
      "{'name': 'Sai', 'age': 26}\n"
     ]
    }
   ],
   "source": [
    "dict_ = dict(name=\"Sai\", age=26)\n",
    "print(dict_)"
   ]
  },
  {
   "cell_type": "code",
   "execution_count": 81,
   "id": "9573fe9e-6ebd-4979-a81e-1d68602745f2",
   "metadata": {},
   "outputs": [
    {
     "name": "stdout",
     "output_type": "stream",
     "text": [
      "{'name': 'Sai', 'age': 26, 'gender': 'male', 'blood_group': 'b+'}\n",
      "{'age': 26, 'gender': 'male', 'blood_group': 'b+'}\n"
     ]
    }
   ],
   "source": [
    "x = {\n",
    "    \"name\": \"Sai\",\n",
    "    \"age\": 26\n",
    "}\n",
    "# values = x.values()\n",
    "# print(values)\n",
    "# x[\"age\"] = 30\n",
    "# x[\"gender\"] = \"Male\"\n",
    "# print(values)\n",
    "x.update({\"gender\": \"male\", \"blood_group\": \"b+\"})\n",
    "print(x)\n",
    "x.pop(\"name\")\n",
    "print(x)"
   ]
  },
  {
   "cell_type": "code",
   "execution_count": 82,
   "id": "7ef04510-044f-4a87-9309-1815c37f7083",
   "metadata": {},
   "outputs": [
    {
     "name": "stdout",
     "output_type": "stream",
     "text": [
      "1 2 3\n",
      "4 5 6\n"
     ]
    }
   ],
   "source": [
    "for x, y, z in [[1, 2, 3], [4, 5, 6]]:\n",
    "    print(x, y, z)"
   ]
  },
  {
   "cell_type": "code",
   "execution_count": 84,
   "id": "c4e3488c-4145-470c-a94b-324b5f0ec1b1",
   "metadata": {},
   "outputs": [
    {
     "name": "stdout",
     "output_type": "stream",
     "text": [
      "{'name': 0, 'age': 0}\n"
     ]
    }
   ],
   "source": [
    "keys = (\"name\", \"age\")\n",
    "value = 0\n",
    "dict_ = dict.fromkeys(keys, value)\n",
    "print(dict_)"
   ]
  },
  {
   "cell_type": "code",
   "execution_count": 85,
   "id": "4bdb983a-837a-4acf-87d2-14c9797626ad",
   "metadata": {},
   "outputs": [
    {
     "name": "stdout",
     "output_type": "stream",
     "text": [
      "One is less than 2\n"
     ]
    }
   ],
   "source": [
    "if 1 < 2: print(\"One is less than 2\")"
   ]
  },
  {
   "cell_type": "markdown",
   "id": "76942809-6c2e-4027-9b44-bfeff66aff16",
   "metadata": {},
   "source": [
    "#### This operation is called conditional operation"
   ]
  },
  {
   "cell_type": "code",
   "execution_count": 86,
   "id": "34c3ef9d-bfaa-475d-b2a5-694bf4c14a23",
   "metadata": {},
   "outputs": [
    {
     "name": "stdout",
     "output_type": "stream",
     "text": [
      "1 is less than 2\n"
     ]
    }
   ],
   "source": [
    "print(\"1 is less than 2\") if 1 < 2 else print(\"One equals to two\") if 1 == 2 else print(\"One is less than two\")"
   ]
  },
  {
   "cell_type": "markdown",
   "id": "31cfba2f-6cd1-4120-9556-25f94be0ea5e",
   "metadata": {},
   "source": [
    "#### The abmiguity of the break statement.\n",
    "This ambiguity just does not exist."
   ]
  },
  {
   "cell_type": "code",
   "execution_count": null,
   "id": "4c3d433f-44c7-47f4-9db4-43ba0fcc4894",
   "metadata": {},
   "outputs": [],
   "source": [
    "# i = 0\n",
    "# j = 0\n",
    "# k = 0\n",
    "\n",
    "# while i < 4:\n",
    "#     while j < 4:\n",
    "#         while k < 4:\n",
    "#             if k == 3:\n",
    "#                 break\n",
    "#     i = i + 1\n",
    "#     j = j + 1\n",
    "#     k = k + 1"
   ]
  },
  {
   "cell_type": "code",
   "execution_count": 6,
   "id": "819fc783-872a-48ec-813f-21b36b596aa2",
   "metadata": {},
   "outputs": [
    {
     "name": "stdout",
     "output_type": "stream",
     "text": [
      "0\n"
     ]
    }
   ],
   "source": [
    "i = 0\n",
    "while i < 3:\n",
    "    print(i)\n",
    "    i = i + 1\n",
    "    break\n",
    "else:\n",
    "    print(\"Loop ended\")"
   ]
  },
  {
   "cell_type": "code",
   "execution_count": 7,
   "id": "2a9ed292-a1f9-427f-b920-a7267f8cdc6f",
   "metadata": {},
   "outputs": [
    {
     "name": "stdout",
     "output_type": "stream",
     "text": [
      "The name is: Sai\n"
     ]
    }
   ],
   "source": [
    "def func(name):\n",
    "    print(\"The name is:\", name)\n",
    "\n",
    "func(\"Sai\")"
   ]
  },
  {
   "cell_type": "code",
   "execution_count": 8,
   "id": "5f7c144d-b387-4d7d-97c2-625a4e44f1c1",
   "metadata": {},
   "outputs": [
    {
     "name": "stdout",
     "output_type": "stream",
     "text": [
      "The names are :\n",
      "Sai\n",
      "Happy\n",
      "Rufus\n"
     ]
    }
   ],
   "source": [
    "def func(*name):\n",
    "    print(\"The names are :\")\n",
    "    for ele in name:\n",
    "        print(ele)\n",
    "\n",
    "func(\"Sai\", \"Happy\", \"Rufus\")\n",
    "func(\"Rajesh\", \"Himani\", \"Rohit\", \"Raghu"
   ]
  },
  {
   "cell_type": "code",
   "execution_count": 3,
   "id": "1191ce75-cef8-4b3f-99fd-e046212cb43a",
   "metadata": {},
   "outputs": [
    {
     "name": "stdout",
     "output_type": "stream",
     "text": [
      "Your first name is Sai and your last name is Sahu.\n"
     ]
    }
   ],
   "source": [
    "def func(firstname, lastname):\n",
    "    print(f\"Your first name is {firstname} and your last name is {lastname}.\")\n",
    "\n",
    "func(lastname=\"Sahu\", firstname=\"Sai\")"
   ]
  },
  {
   "cell_type": "code",
   "execution_count": 8,
   "id": "b98110d0-d186-4ce3-ac5e-82fe77decd2b",
   "metadata": {},
   "outputs": [
    {
     "name": "stdout",
     "output_type": "stream",
     "text": [
      "{'firstname': 'Sai', 'lastname': 'Sahu'}\n",
      "<class 'dict'>\n"
     ]
    }
   ],
   "source": [
    "def func(**kwargs):\n",
    "    print(kwargs)\n",
    "    print(type(kwargs))\n",
    "\n",
    "func(firstname=\"Sai\", lastname=\"Sahu\")"
   ]
  },
  {
   "cell_type": "code",
   "execution_count": 14,
   "id": "1214d41e-77ea-4d83-b907-248affc8a3bf",
   "metadata": {},
   "outputs": [
    {
     "name": "stdout",
     "output_type": "stream",
     "text": [
      "Sai\n",
      "Rohit\n",
      "Rajesh\n"
     ]
    }
   ],
   "source": [
    "def func(firstname=\"Sai\"):\n",
    "    print(firstname)\n",
    "\n",
    "func()\n",
    "func(\"Rohit\")\n",
    "func(firstname=\"Rajesh\")"
   ]
  },
  {
   "cell_type": "code",
   "execution_count": 23,
   "id": "03cdb13b-d680-4868-882f-22df50ccdff1",
   "metadata": {},
   "outputs": [
    {
     "name": "stdout",
     "output_type": "stream",
     "text": [
      "Sai Sahu\n"
     ]
    }
   ],
   "source": [
    "def func(firstname, lastname, /):\n",
    "    print(firstname, lastname)\n",
    "\n",
    "func(\"Sai\", \"Sahu\")"
   ]
  },
  {
   "cell_type": "code",
   "execution_count": 24,
   "id": "74288c01-e6e1-49d1-80ad-0198649d5cf1",
   "metadata": {},
   "outputs": [
    {
     "name": "stdout",
     "output_type": "stream",
     "text": [
      "Sai Sahu\n"
     ]
    }
   ],
   "source": [
    "def func(*, firstname, lastname):\n",
    "    print(firstname, lastname)\n",
    "\n",
    "func(firstname=\"Sai\", lastname=\"Sahu\")"
   ]
  },
  {
   "cell_type": "code",
   "execution_count": 66,
   "id": "2fd2efec-7a61-4432-a507-0ba746fe0ba0",
   "metadata": {},
   "outputs": [
    {
     "name": "stdout",
     "output_type": "stream",
     "text": [
      "Sai Sahu 26 male\n"
     ]
    }
   ],
   "source": [
    "def func(firstname, lastname, *, age, gender):\n",
    "    print(firstname, lastname, age, gender)\n",
    "\n",
    "func(\"Sai\", \"Sahu\", age=26, gender=\"male\")"
   ]
  },
  {
   "cell_type": "markdown",
   "id": "9e3aca39-ac4a-474e-bf6f-54bea13a771e",
   "metadata": {},
   "source": [
    "#### The following function will contain all types of arguments.\n",
    "1. Normal Arguments\n",
    "2. Positional Only Arguments\n",
    "3. Keyword Only Arguments\n",
    "4. Arbitary Positional Arguments\n",
    "5. Arbitary Positional Arguments\n",
    "6. Default Arguments\n",
    "\n",
    "It's difficult to properly arragne the parameters"
   ]
  },
  {
   "cell_type": "markdown",
   "id": "9d135e3f-a44f-417f-8c58-d3371035b7b5",
   "metadata": {},
   "source": [
    "#### Recurssion\n",
    "It's a great concept to have"
   ]
  },
  {
   "cell_type": "code",
   "execution_count": 76,
   "id": "9e29bd31-2b3a-40dc-bb56-71a8e42936b3",
   "metadata": {},
   "outputs": [
    {
     "data": {
      "text/plain": [
       "18"
      ]
     },
     "execution_count": 76,
     "metadata": {},
     "output_type": "execute_result"
    }
   ],
   "source": [
    "def func(n):\n",
    "    if n == 4:\n",
    "        return 15\n",
    "    if n < 5:\n",
    "        k = n + func(n+1)\n",
    "    else:\n",
    "        return 0\n",
    "    return k\n",
    "\n",
    "func(3)"
   ]
  },
  {
   "cell_type": "code",
   "execution_count": 80,
   "id": "a0ef0b5c-f97c-437d-927e-99e4a4b4e149",
   "metadata": {},
   "outputs": [
    {
     "name": "stdout",
     "output_type": "stream",
     "text": [
      "Sai 26\n"
     ]
    }
   ],
   "source": [
    "x = lambda firstname, age: firstname + ' ' + str(age)\n",
    "print(x(\"Sai\", 26))"
   ]
  },
  {
   "cell_type": "code",
   "execution_count": 84,
   "id": "fa1701eb-38d8-43ca-a9e5-d30e1b8f4d37",
   "metadata": {},
   "outputs": [
    {
     "name": "stdout",
     "output_type": "stream",
     "text": [
      "Sahu 27\n",
      "Palmer 28\n"
     ]
    }
   ],
   "source": [
    "def func(lastname):\n",
    "    return lambda age: lastname + ' ' + str(age)\n",
    "\n",
    "x = func(\"Sahu\")\n",
    "y = func(\"Palmer\")\n",
    "\n",
    "print(x(27))\n",
    "print(y(28))"
   ]
  },
  {
   "cell_type": "code",
   "execution_count": 85,
   "id": "0fa7c998-002a-4518-9d7d-974bb42d601e",
   "metadata": {},
   "outputs": [
    {
     "name": "stdout",
     "output_type": "stream",
     "text": [
      "5\n"
     ]
    }
   ],
   "source": [
    "class TestClass:\n",
    "    x = 5\n",
    "\n",
    "o = TestClass()\n",
    "print(o.x)"
   ]
  },
  {
   "cell_type": "code",
   "execution_count": 107,
   "id": "a464d383-5a4f-4658-abab-e0a4896dc907",
   "metadata": {},
   "outputs": [
    {
     "name": "stdout",
     "output_type": "stream",
     "text": [
      "Sai\n",
      "26\n",
      "Sai-26\n",
      "Sai-28\n"
     ]
    }
   ],
   "source": [
    "class Person:\n",
    "    nature = \"Human\"\n",
    "    \n",
    "    def __init__(self, name, age):\n",
    "        self.name = name\n",
    "        self.age = age\n",
    "\n",
    "    def __str__(self):\n",
    "        return f\"{self.name}-{self.age}\"\n",
    "\n",
    "    def test(self):\n",
    "        return f\"Hello! my name is {self.name} and my age is {self.age}. I am having the nature {self.nature}\"\n",
    "\n",
    "o = Person(\"Sai\", 26)\n",
    "print(o.name)\n",
    "print(o.age)\n",
    "print(o)\n",
    "o.age = 28\n",
    "o.test()\n",
    "# del o.age\n",
    "# print(o.age)\n",
    "# del o\n",
    "print(o)"
   ]
  },
  {
   "cell_type": "code",
   "execution_count": 117,
   "id": "8dbdea2b-4a62-41f6-bc4d-4ccbc23889a3",
   "metadata": {},
   "outputs": [
    {
     "name": "stdout",
     "output_type": "stream",
     "text": [
      "Sai-26\n",
      "15\n"
     ]
    },
    {
     "data": {
      "text/plain": [
       "15"
      ]
     },
     "execution_count": 117,
     "metadata": {},
     "output_type": "execute_result"
    }
   ],
   "source": [
    "class Man(Person):\n",
    "    def __init__(self, name, age, stamina):\n",
    "        super().__init__(name, age)\n",
    "        self.stamina = stamina\n",
    "\n",
    "    def show_stamina(self):\n",
    "        return self.stamina\n",
    "\n",
    "o = Man(\"Sai\", 26, 15)\n",
    "print(o)\n",
    "print(o.stamina)\n",
    "o.show_stamina()"
   ]
  },
  {
   "cell_type": "code",
   "execution_count": 123,
   "id": "5234cf57-9313-4f32-8e7a-ba0a4ad6a6e0",
   "metadata": {},
   "outputs": [
    {
     "name": "stdout",
     "output_type": "stream",
     "text": [
      "1\n",
      "2\n",
      "3\n"
     ]
    }
   ],
   "source": [
    "x = (1, 2, 3)\n",
    "x_iterator = iter(x)\n",
    "print(next(x_iterator))\n",
    "print(next(x_iterator))\n",
    "print(next(x_iterator))\n",
    "# print(next(x_iterator))"
   ]
  },
  {
   "cell_type": "code",
   "execution_count": 125,
   "id": "2b263c07-34bc-4a85-b74c-9e28b5d47157",
   "metadata": {},
   "outputs": [],
   "source": [
    "# x_iter = iter(4)"
   ]
  },
  {
   "cell_type": "code",
   "execution_count": 3,
   "id": "f7d2814c-6540-439e-8cd6-aad19908686f",
   "metadata": {},
   "outputs": [],
   "source": [
    "class x:\n",
    "    def __init__(self, *args):\n",
    "       self.args = args\n",
    "        \n",
    "    def __iter__(self):\n",
    "        self.a = 0\n",
    "        return self\n",
    "\n",
    "    def __next__(self):\n",
    "        if self.a >= len(self.args):\n",
    "            raise StopIteration\n",
    "        else:\n",
    "            x = self.args[self.a]\n",
    "            self.a = self.a + 1\n",
    "            return x\n",
    "\n",
    "o = x(1, \"b\", 3, \"c\", 5)\n",
    "\n",
    "o_iterator = iter(o)\n",
    "# print(o_iterator[1])\n",
    "# print(next(o_iterator))\n",
    "# print(next(o_iterator))\n",
    "# print(next(o_iterator))\n",
    "\n",
    "# for ele in o_iterator:\n",
    "#     print(ele)"
   ]
  },
  {
   "cell_type": "code",
   "execution_count": 4,
   "id": "9f1a9d40-71f3-447f-9ca8-a58876157f7b",
   "metadata": {},
   "outputs": [
    {
     "name": "stdout",
     "output_type": "stream",
     "text": [
      "{\"name\": \"Sai\", \"age\": 26}\n",
      "<class 'str'>\n"
     ]
    }
   ],
   "source": [
    "import json\n",
    "\n",
    "dict_ = {\n",
    "    \"name\": \"Sai\",\n",
    "    \"age\": 26\n",
    "}\n",
    "\n",
    "json_ = json.dumps(dict_)\n",
    "print(json_)\n",
    "print(type(json_))"
   ]
  },
  {
   "cell_type": "code",
   "execution_count": 2,
   "id": "dfdf4615-d4be-43aa-8ef9-447c05810422",
   "metadata": {},
   "outputs": [
    {
     "name": "stdout",
     "output_type": "stream",
     "text": [
      "Collecting matplotlib\n",
      "  Downloading matplotlib-3.9.0-cp312-cp312-manylinux_2_17_x86_64.manylinux2014_x86_64.whl.metadata (11 kB)\n",
      "Collecting contourpy>=1.0.1 (from matplotlib)\n",
      "  Downloading contourpy-1.2.1-cp312-cp312-manylinux_2_17_x86_64.manylinux2014_x86_64.whl.metadata (5.8 kB)\n",
      "Collecting cycler>=0.10 (from matplotlib)\n",
      "  Downloading cycler-0.12.1-py3-none-any.whl.metadata (3.8 kB)\n",
      "Collecting fonttools>=4.22.0 (from matplotlib)\n",
      "  Downloading fonttools-4.52.4-cp312-cp312-manylinux_2_5_x86_64.manylinux1_x86_64.manylinux_2_17_x86_64.manylinux2014_x86_64.whl.metadata (161 kB)\n",
      "\u001b[2K     \u001b[38;2;114;156;31m━━━━━━━━━━━━━━━━━━━━━━━━━━━━━━━━━━━━━\u001b[0m \u001b[32m161.7/161.7 kB\u001b[0m \u001b[31m407.1 kB/s\u001b[0m eta \u001b[36m0:00:00\u001b[0m kB/s\u001b[0m eta \u001b[36m0:00:01\u001b[0m:01\u001b[0m\n",
      "\u001b[?25hCollecting kiwisolver>=1.3.1 (from matplotlib)\n",
      "  Downloading kiwisolver-1.4.5-cp312-cp312-manylinux_2_17_x86_64.manylinux2014_x86_64.whl.metadata (6.4 kB)\n",
      "Collecting numpy>=1.23 (from matplotlib)\n",
      "  Downloading numpy-1.26.4-cp312-cp312-manylinux_2_17_x86_64.manylinux2014_x86_64.whl.metadata (61 kB)\n",
      "\u001b[2K     \u001b[38;2;114;156;31m━━━━━━━━━━━━━━━━━━━━━━━━━━━━━━━━━━━━━━━\u001b[0m \u001b[32m61.0/61.0 kB\u001b[0m \u001b[31m273.6 kB/s\u001b[0m eta \u001b[36m0:00:00\u001b[0m1m662.7 kB/s\u001b[0m eta \u001b[36m0:00:01\u001b[0m\n",
      "\u001b[?25hRequirement already satisfied: packaging>=20.0 in /home/saisahu/self/projects/ds/lib/python3.12/site-packages (from matplotlib) (24.0)\n",
      "Collecting pillow>=8 (from matplotlib)\n",
      "  Downloading pillow-10.3.0-cp312-cp312-manylinux_2_28_x86_64.whl.metadata (9.2 kB)\n",
      "Collecting pyparsing>=2.3.1 (from matplotlib)\n",
      "  Downloading pyparsing-3.1.2-py3-none-any.whl.metadata (5.1 kB)\n",
      "Requirement already satisfied: python-dateutil>=2.7 in /home/saisahu/self/projects/ds/lib/python3.12/site-packages (from matplotlib) (2.9.0.post0)\n",
      "Requirement already satisfied: six>=1.5 in /home/saisahu/self/projects/ds/lib/python3.12/site-packages (from python-dateutil>=2.7->matplotlib) (1.16.0)\n",
      "Downloading matplotlib-3.9.0-cp312-cp312-manylinux_2_17_x86_64.manylinux2014_x86_64.whl (8.3 MB)\n",
      "\u001b[2K   \u001b[38;2;114;156;31m━━━━━━━━━━━━━━━━━━━━━━━━━━━━━━━━━━━━━━━━\u001b[0m \u001b[32m8.3/8.3 MB\u001b[0m \u001b[31m716.5 kB/s\u001b[0m eta \u001b[36m0:00:00\u001b[0mm eta \u001b[36m0:00:01\u001b[0m[36m0:00:01\u001b[0m\n",
      "\u001b[?25hDownloading contourpy-1.2.1-cp312-cp312-manylinux_2_17_x86_64.manylinux2014_x86_64.whl (309 kB)\n",
      "\u001b[2K   \u001b[38;2;114;156;31m━━━━━━━━━━━━━━━━━━━━━━━━━━━━━━━━━━━━━━━\u001b[0m \u001b[32m309.2/309.2 kB\u001b[0m \u001b[31m434.8 kB/s\u001b[0m eta \u001b[36m0:00:00\u001b[0mm eta \u001b[36m0:00:01\u001b[0m[36m0:00:01\u001b[0m\n",
      "\u001b[?25hDownloading cycler-0.12.1-py3-none-any.whl (8.3 kB)\n",
      "Downloading fonttools-4.52.4-cp312-cp312-manylinux_2_5_x86_64.manylinux1_x86_64.manylinux_2_17_x86_64.manylinux2014_x86_64.whl (4.9 MB)\n",
      "\u001b[2K   \u001b[38;2;114;156;31m━━━━━━━━━━━━━━━━━━━━━━━━━━━━━━━━━━━━━━━━\u001b[0m \u001b[32m4.9/4.9 MB\u001b[0m \u001b[31m1.1 MB/s\u001b[0m eta \u001b[36m0:00:00\u001b[0mm eta \u001b[36m0:00:01\u001b[0m[36m0:00:01\u001b[0m0m\n",
      "\u001b[?25hDownloading kiwisolver-1.4.5-cp312-cp312-manylinux_2_17_x86_64.manylinux2014_x86_64.whl (1.5 MB)\n",
      "\u001b[2K   \u001b[38;2;114;156;31m━━━━━━━━━━━━━━━━━━━━━━━━━━━━━━━━━━━━━━━━\u001b[0m \u001b[32m1.5/1.5 MB\u001b[0m \u001b[31m489.3 kB/s\u001b[0m eta \u001b[36m0:00:00\u001b[0mm eta \u001b[36m0:00:01\u001b[0m6m0:00:01\u001b[0m\n",
      "\u001b[?25hDownloading numpy-1.26.4-cp312-cp312-manylinux_2_17_x86_64.manylinux2014_x86_64.whl (18.0 MB)\n",
      "\u001b[2K   \u001b[38;2;114;156;31m━━━━━━━━━━━━━━━━━━━━━━━━━━━━━━━━━━━━━━━━\u001b[0m \u001b[32m18.0/18.0 MB\u001b[0m \u001b[31m1.2 MB/s\u001b[0m eta \u001b[36m0:00:00\u001b[0mm eta \u001b[36m0:00:01\u001b[0m[36m0:00:01\u001b[0m0m\n",
      "\u001b[?25hDownloading pillow-10.3.0-cp312-cp312-manylinux_2_28_x86_64.whl (4.5 MB)\n",
      "\u001b[2K   \u001b[38;2;114;156;31m━━━━━━━━━━━━━━━━━━━━━━━━━━━━━━━━━━━━━━━━\u001b[0m \u001b[32m4.5/4.5 MB\u001b[0m \u001b[31m1.0 MB/s\u001b[0m eta \u001b[36m0:00:00\u001b[0mm eta \u001b[36m0:00:01\u001b[0m[36m0:00:01\u001b[0m\n",
      "\u001b[?25hDownloading pyparsing-3.1.2-py3-none-any.whl (103 kB)\n",
      "\u001b[2K   \u001b[38;2;114;156;31m━━━━━━━━━━━━━━━━━━━━━━━━━━━━━━━━━━━━━━━\u001b[0m \u001b[32m103.2/103.2 kB\u001b[0m \u001b[31m413.1 kB/s\u001b[0m eta \u001b[36m0:00:00\u001b[0m eta \u001b[36m0:00:01\u001b[0m36m0:00:01\u001b[0m\n",
      "\u001b[?25hInstalling collected packages: pyparsing, pillow, numpy, kiwisolver, fonttools, cycler, contourpy, matplotlib\n",
      "Successfully installed contourpy-1.2.1 cycler-0.12.1 fonttools-4.52.4 kiwisolver-1.4.5 matplotlib-3.9.0 numpy-1.26.4 pillow-10.3.0 pyparsing-3.1.2\n"
     ]
    }
   ],
   "source": [
    "! pip install matplotlib"
   ]
  },
  {
   "cell_type": "code",
   "execution_count": 6,
   "id": "9c2a75aa-a156-4193-a0d4-879ffb6859cf",
   "metadata": {},
   "outputs": [
    {
     "name": "stderr",
     "output_type": "stream",
     "text": [
      "Matplotlib is building the font cache; this may take a moment.\n"
     ]
    }
   ],
   "source": [
    "import matplotlib\n",
    "import matplotlib.pyplot"
   ]
  },
  {
   "cell_type": "code",
   "execution_count": 18,
   "id": "11059e64-0a7f-4a55-bba0-e1ccfa222059",
   "metadata": {},
   "outputs": [
    {
     "name": "stdout",
     "output_type": "stream",
     "text": [
      "<class 'module'>\n"
     ]
    }
   ],
   "source": [
    "print(type(matplotlib))\n",
    "# dir(matplotlib.pyplot)"
   ]
  }
 ],
 "metadata": {
  "kernelspec": {
   "display_name": "Python 3 (ipykernel)",
   "language": "python",
   "name": "python3"
  },
  "language_info": {
   "codemirror_mode": {
    "name": "ipython",
    "version": 3
   },
   "file_extension": ".py",
   "mimetype": "text/x-python",
   "name": "python",
   "nbconvert_exporter": "python",
   "pygments_lexer": "ipython3",
   "version": "3.12.3"
  }
 },
 "nbformat": 4,
 "nbformat_minor": 5
}
