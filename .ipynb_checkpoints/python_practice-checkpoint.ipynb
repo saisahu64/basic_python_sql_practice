{
 "cells": [
  {
   "cell_type": "code",
   "execution_count": 6,
   "id": "bbcabbbe-e069-4c51-9aa0-b869d6c7164b",
   "metadata": {},
   "outputs": [
    {
     "name": "stdout",
     "output_type": "stream",
     "text": [
      "Python 3.12.3\n"
     ]
    }
   ],
   "source": [
    "! python --version"
   ]
  },
  {
   "cell_type": "code",
   "execution_count": 7,
   "id": "8c09e78d-9ae6-4942-8b1f-b471ce766acc",
   "metadata": {},
   "outputs": [
    {
     "name": "stdout",
     "output_type": "stream",
     "text": [
      "Hello World!\n"
     ]
    }
   ],
   "source": [
    "print(\"Hello World!\")"
   ]
  },
  {
   "cell_type": "code",
   "execution_count": 8,
   "id": "e7072f3d-4263-4ac2-9773-056b7fd6a940",
   "metadata": {},
   "outputs": [
    {
     "name": "stdout",
     "output_type": "stream",
     "text": [
      "3.12.3 (main, Apr 10 2024, 05:33:47) [GCC 13.2.0]\n"
     ]
    }
   ],
   "source": [
    "import sys\n",
    "print(sys.version)"
   ]
  },
  {
   "cell_type": "code",
   "execution_count": 24,
   "id": "41013d13-7143-4711-bf9c-bac84cd9fbab",
   "metadata": {},
   "outputs": [
    {
     "name": "stdout",
     "output_type": "stream",
     "text": [
      "True\n",
      "Another Line\n",
      "1\n",
      "2\n"
     ]
    }
   ],
   "source": [
    "num = 1\n",
    "\n",
    "if num == 1:\n",
    "    print(True)\n",
    "    print(\"Another Line\")\n",
    "else:\n",
    "  print(False)\n",
    "  print(\"Another Line\")\n",
    "\n",
    "for ele in [1, 2]:\n",
    " print(ele)"
   ]
  },
  {
   "cell_type": "code",
   "execution_count": 25,
   "id": "da936a66-8996-46ec-b6a1-21a79ab6d96f",
   "metadata": {},
   "outputs": [
    {
     "data": {
      "text/plain": [
       "'This is something else.\\nI need to check it once again\\n'"
      ]
     },
     "execution_count": 25,
     "metadata": {},
     "output_type": "execute_result"
    }
   ],
   "source": [
    "\"\"\"This is something else.\n",
    "I need to check it once again\n",
    "\"\"\""
   ]
  },
  {
   "cell_type": "code",
   "execution_count": 26,
   "id": "556ba43b-72f1-4e74-9751-d903b7925893",
   "metadata": {},
   "outputs": [
    {
     "name": "stdout",
     "output_type": "stream",
     "text": [
      "16.89 -8 sai\n"
     ]
    }
   ],
   "source": [
    "x, y, first_name = 16.89, -8, \"sai\"\n",
    "print(x, y, first_name)"
   ]
  },
  {
   "cell_type": "code",
   "execution_count": 27,
   "id": "deaf5649-2a6d-4237-a298-7f1e35efe9b8",
   "metadata": {},
   "outputs": [
    {
     "name": "stdout",
     "output_type": "stream",
     "text": [
      "sai sai sai\n"
     ]
    }
   ],
   "source": [
    "x = y = first_name = 'sai'\n",
    "print(x, y, first_name)"
   ]
  },
  {
   "cell_type": "code",
   "execution_count": 4,
   "id": "deff4263-ce15-4ecd-9a9f-708e322f84f0",
   "metadata": {},
   "outputs": [
    {
     "name": "stdout",
     "output_type": "stream",
     "text": [
      "name age height\n"
     ]
    }
   ],
   "source": [
    "x = [1, 2, \"apple\"]\n",
    "x = (1, 2, \"apple\")\n",
    "x = {1, 2, \"apple\"}\n",
    "x = {\"name\": \"sai\", \"age\": 23, \"height\": 5.8}\n",
    "y, z, a = x\n",
    "print(y, z, a)"
   ]
  },
  {
   "cell_type": "code",
   "execution_count": 2,
   "id": "813819aa-4ca1-47a7-b3c2-43f6576277ac",
   "metadata": {},
   "outputs": [
    {
     "name": "stdout",
     "output_type": "stream",
     "text": [
      "0 1.2 apple\n"
     ]
    }
   ],
   "source": [
    "[x, y, z] = [0, 1.2, 'apple']\n",
    "print(x, y, z)\n",
    "\n",
    "x = [1, 2.2, \"apple\"]\n",
    "[x, y, z] = x"
   ]
  },
  {
   "cell_type": "code",
   "execution_count": 10,
   "id": "bd49f6b8-8d81-4931-a7b6-c5746811b668",
   "metadata": {},
   "outputs": [
    {
     "name": "stdout",
     "output_type": "stream",
     "text": [
      "test_2 best_2\n",
      "test_2 best_2\n",
      "mest_2\n",
      "mest_2\n"
     ]
    }
   ],
   "source": [
    "x = 'test'\n",
    "y = 'best'\n",
    "z = 'mest'\n",
    "\n",
    "def func():\n",
    "    global x, y\n",
    "    x = 'test_2'\n",
    "    y = 'best_2'\n",
    "    print(x, y)\n",
    "\n",
    "func()\n",
    "\n",
    "print(x, y)\n",
    "\n",
    "if True:\n",
    "    z = 'mest_2'\n",
    "    print(z)\n",
    "\n",
    "print(z)"
   ]
  },
  {
   "cell_type": "code",
   "execution_count": 12,
   "id": "217e3026-4917-4766-abfc-63eb637911e1",
   "metadata": {},
   "outputs": [
    {
     "name": "stdout",
     "output_type": "stream",
     "text": [
      "<class 'int'>\n"
     ]
    }
   ],
   "source": [
    "x = 5\n",
    "print(type(x))"
   ]
  },
  {
   "cell_type": "code",
   "execution_count": 13,
   "id": "f495850a-0675-4c07-8a6d-605e709d414c",
   "metadata": {},
   "outputs": [
    {
     "name": "stdout",
     "output_type": "stream",
     "text": [
      "<class 'complex'>\n"
     ]
    }
   ],
   "source": [
    "x = 2 + 3j\n",
    "print(type(x))"
   ]
  },
  {
   "cell_type": "code",
   "execution_count": 14,
   "id": "f6275054-103d-454a-84b8-f46daea650b6",
   "metadata": {},
   "outputs": [
    {
     "name": "stdout",
     "output_type": "stream",
     "text": [
      "<class 'range'>\n"
     ]
    }
   ],
   "source": [
    "x = range(-5)\n",
    "print(type(x))"
   ]
  },
  {
   "cell_type": "code",
   "execution_count": 23,
   "id": "6e6833e7-f7e2-4b90-8263-a972fb5cf9de",
   "metadata": {},
   "outputs": [
    {
     "name": "stdout",
     "output_type": "stream",
     "text": [
      "<class 'frozenset'>\n"
     ]
    }
   ],
   "source": [
    "x = frozenset({\"apple\", 5, 5.9})\n",
    "# x.add(\"cherry\")\n",
    "print(type(x))"
   ]
  },
  {
   "cell_type": "code",
   "execution_count": 27,
   "id": "3663abbd-22db-45f3-adba-262bb87bad8b",
   "metadata": {},
   "outputs": [
    {
     "name": "stdout",
     "output_type": "stream",
     "text": [
      "['apple', 2, 3.5]\n"
     ]
    }
   ],
   "source": [
    "x = list((\"apple\", 2, 3.5))\n",
    "print(x)"
   ]
  },
  {
   "cell_type": "code",
   "execution_count": 38,
   "id": "a9fb0ec5-d174-40ca-b2b9-8a894070f16a",
   "metadata": {},
   "outputs": [
    {
     "name": "stdout",
     "output_type": "stream",
     "text": [
      "<memory at 0x72e469b1bc40>\n",
      "b'a'\n",
      "bytearray(b'\\x00\\x00\\x00\\x00\\x00')\n"
     ]
    }
   ],
   "source": [
    "x = memoryview(bytes(5))\n",
    "print(x)\n",
    "y = bytes(\"a\", \"UTF\")\n",
    "print(y)\n",
    "z = bytearray(5)\n",
    "print(z)"
   ]
  },
  {
   "cell_type": "code",
   "execution_count": 48,
   "id": "481bb74d-827b-4f33-a85b-c56616a3016d",
   "metadata": {},
   "outputs": [
    {
     "name": "stdout",
     "output_type": "stream",
     "text": [
      "53000000000.0\n"
     ]
    }
   ],
   "source": [
    "x = 5.3e10\n",
    "print(x)"
   ]
  },
  {
   "cell_type": "code",
   "execution_count": 54,
   "id": "9baa485f-d4a8-4e83-b524-e34b78e65ec3",
   "metadata": {},
   "outputs": [
    {
     "name": "stdout",
     "output_type": "stream",
     "text": [
      "(5+0j) (5+0j)\n",
      "<class 'complex'> <class 'str'>\n"
     ]
    }
   ],
   "source": [
    "x = complex(5)\n",
    "y = str(x)\n",
    "print(x, y)\n",
    "print(type(x), type(y))"
   ]
  },
  {
   "cell_type": "code",
   "execution_count": 100,
   "id": "91940fba-e40f-4fde-9418-85ba467477cc",
   "metadata": {},
   "outputs": [
    {
     "name": "stdout",
     "output_type": "stream",
     "text": [
      "3\n"
     ]
    }
   ],
   "source": [
    "import random\n",
    "numbers = random.randrange(2, 8)\n",
    "print(numbers)"
   ]
  },
  {
   "cell_type": "code",
   "execution_count": 108,
   "id": "a0987e29-28aa-499d-a128-d7ea85590823",
   "metadata": {},
   "outputs": [
    {
     "name": "stdout",
     "output_type": "stream",
     "text": [
      "This is a cat\n",
      "and we all know that every cat has a great\n",
      "way to interact with rats.\n",
      "This is a cat\n",
      "and we all know that every cat has a great\n",
      "way to interact with rats.\n"
     ]
    }
   ],
   "source": [
    "for i in range(2):\n",
    "    x = \"\"\"This is a cat\n",
    "and we all know that every cat has a great\n",
    "way to interact with rats.\"\"\"\n",
    "    print(x)"
   ]
  },
  {
   "cell_type": "code",
   "execution_count": 117,
   "id": "572cd30c-d55b-4d9d-969c-f8a1314e360b",
   "metadata": {},
   "outputs": [
    {
     "name": "stdout",
     "output_type": "stream",
     "text": [
      "4567\n"
     ]
    }
   ],
   "source": [
    "x = \"0123456789\"\n",
    "slice_x = x[-6 : -2]\n",
    "print(slice_x)"
   ]
  },
  {
   "cell_type": "code",
   "execution_count": 120,
   "id": "ee6fa23e-fda8-47ad-86be-c897443a512a",
   "metadata": {},
   "outputs": [
    {
     "name": "stdout",
     "output_type": "stream",
     "text": [
      "123\n"
     ]
    }
   ],
   "source": [
    "x = \"  123 \"\n",
    "y = x.strip()\n",
    "print(y)"
   ]
  },
  {
   "cell_type": "code",
   "execution_count": 122,
   "id": "5c3951fb-872f-4c5e-b83f-9fb6339ce281",
   "metadata": {},
   "outputs": [
    {
     "name": "stdout",
     "output_type": "stream",
     "text": [
      "ß\n",
      "ss\n"
     ]
    }
   ],
   "source": [
    "x = \"abcABC\"\n",
    "x = \"ß\"\n",
    "print(x.lower())\n",
    "print(x.casefold())"
   ]
  },
  {
   "cell_type": "code",
   "execution_count": 1,
   "id": "44920158-e78c-4f21-82ad-37eda6a678da",
   "metadata": {},
   "outputs": [
    {
     "name": "stdout",
     "output_type": "stream",
     "text": [
      "efc efcd ef\n"
     ]
    }
   ],
   "source": [
    "print(\"abc abcd ab\".replace(\"ab\", \"ef\"))"
   ]
  },
  {
   "cell_type": "code",
   "execution_count": 4,
   "id": "94adaf8d-355b-4b6a-a835-41a9a23ba2cd",
   "metadata": {},
   "outputs": [
    {
     "name": "stdout",
     "output_type": "stream",
     "text": [
      "i am 3.0 years old.\n"
     ]
    }
   ],
   "source": [
    "y = 5\n",
    "def twice(num):\n",
    "    return num * 2\n",
    "\n",
    "x = f\"i am {} years old.\"\n",
    "print(x)"
   ]
  },
  {
   "cell_type": "code",
   "execution_count": 17,
   "id": "cf1c1647-5764-4b4a-b738-fe9d6782df71",
   "metadata": {},
   "outputs": [
    {
     "name": "stdout",
     "output_type": "stream",
     "text": [
      "65.23457\n"
     ]
    }
   ],
   "source": [
    "x = 65\n",
    "y = f\"{65.23456789:.5f}\"\n",
    "print(y)"
   ]
  },
  {
   "cell_type": "code",
   "execution_count": 34,
   "id": "4bdb4d8f-a969-475c-9361-05db576aef5f",
   "metadata": {},
   "outputs": [
    {
     "name": "stdout",
     "output_type": "stream",
     "text": [
      "-1\n"
     ]
    }
   ],
   "source": [
    "x = \"ab abc abcd ab\"\n",
    "# y = x.index(\"10\")\n",
    "# y = x.find(\"02\")\n",
    "print(y)"
   ]
  },
  {
   "cell_type": "markdown",
   "id": "ca78e8f6-7d32-4517-82d6-079aa231e218",
   "metadata": {},
   "source": [
    "An example of non-ascii character.\n",
    "\n",
    "&#163;"
   ]
  },
  {
   "cell_type": "code",
   "execution_count": 43,
   "id": "311ab245-68a6-4c3d-b8b2-41318ffba925",
   "metadata": {},
   "outputs": [
    {
     "name": "stdout",
     "output_type": "stream",
     "text": [
      "['this', 'is', 'a', 'cat']\n"
     ]
    }
   ],
   "source": [
    "x = 'this is a cat'\n",
    "y = x.rsplit(' ', -1)\n",
    "print(y)"
   ]
  },
  {
   "cell_type": "code",
   "execution_count": 50,
   "id": "fe8d468e-1698-47e7-8911-68111cf6c8fd",
   "metadata": {},
   "outputs": [
    {
     "name": "stdout",
     "output_type": "stream",
     "text": [
      "True\n",
      "False\n"
     ]
    }
   ],
   "source": [
    "print(bool([1, 2.5, \"apple\"]))\n",
    "print(bool(0))"
   ]
  },
  {
   "cell_type": "code",
   "execution_count": 78,
   "id": "46bced87-cc1b-4777-97ea-924b9a9c093f",
   "metadata": {},
   "outputs": [
    {
     "name": "stdout",
     "output_type": "stream",
     "text": [
      "0\n"
     ]
    }
   ],
   "source": [
    "x = 5\n",
    "x = x >> 9\n",
    "print(x)"
   ]
  },
  {
   "cell_type": "code",
   "execution_count": 85,
   "id": "fafe2acf-a5e6-4e50-a6e2-900d8cef37f3",
   "metadata": {},
   "outputs": [
    {
     "name": "stdout",
     "output_type": "stream",
     "text": [
      "(1, True)\n"
     ]
    }
   ],
   "source": [
    "x = \"this is a car\"\n",
    "y = \"this is a\" in x\n",
    "x = [1, 2.1, \"apple\"]\n",
    "y = 1, 2.1 in x\n",
    "print(y)"
   ]
  },
  {
   "cell_type": "code",
   "execution_count": null,
   "id": "eb85cd55-8e5a-44ed-9ce6-472fe212c40e",
   "metadata": {},
   "outputs": [],
   "source": []
  }
 ],
 "metadata": {
  "kernelspec": {
   "display_name": "Python 3 (ipykernel)",
   "language": "python",
   "name": "python3"
  },
  "language_info": {
   "codemirror_mode": {
    "name": "ipython",
    "version": 3
   },
   "file_extension": ".py",
   "mimetype": "text/x-python",
   "name": "python",
   "nbconvert_exporter": "python",
   "pygments_lexer": "ipython3",
   "version": "3.12.3"
  }
 },
 "nbformat": 4,
 "nbformat_minor": 5
}
